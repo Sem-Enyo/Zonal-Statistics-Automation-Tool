{
  "nbformat": 4,
  "nbformat_minor": 0,
  "metadata": {
    "colab": {
      "provenance": [],
      "authorship_tag": "ABX9TyMhtHegZwRm6NhzhDBR74gD",
      "include_colab_link": true
    },
    "kernelspec": {
      "name": "python3",
      "display_name": "Python 3"
    },
    "language_info": {
      "name": "python"
    }
  },
  "cells": [
    {
      "cell_type": "markdown",
      "metadata": {
        "id": "view-in-github",
        "colab_type": "text"
      },
      "source": [
        "<a href=\"https://colab.research.google.com/github/Sem-Enyo/Zonal-Statistics-Automation-Tool/blob/main/Zonal_stat.ipynb\" target=\"_parent\"><img src=\"https://colab.research.google.com/assets/colab-badge.svg\" alt=\"Open In Colab\"/></a>"
      ]
    },
    {
      "cell_type": "code",
      "execution_count": null,
      "metadata": {
        "id": "hrHGihB33nT_"
      },
      "outputs": [],
      "source": [
        "import arcpy\n",
        "\n",
        "import os\n",
        "\n",
        "import sys\n",
        "\n",
        "import string\n",
        "\n",
        "from arcpy import env\n",
        "\n"
      ]
    },
    {
      "cell_type": "code",
      "source": [
        "#The name of the input layer to be used\n",
        "poly = arcpy.GetParameterAsText(0)  \n",
        "\n",
        "#the field to be used for the statistics       \n",
        "stat_field = arcpy.GetParameterAsText(1)  \n",
        "\n",
        "#The statistics type to be calculated  \n",
        "stat_type = arcpy.GetParameterAsText(2)    \n",
        "\n",
        "#Getting the input rasters\n",
        "raster_name = arcpy.GetParameterAsText(3) \n",
        "  \n",
        "#The input rasters are seperated by ';'\n",
        "#There we need to split it by ';', to create a list for the input rasters\n",
        "raster_list= raster_name.split(';')   \n",
        "      \n",
        "#The order of the rasters needs to be printed as it will be used as  reference in the final output table\n",
        "arcpy.AddMessage('The order of the raster(s) is shown below: ')    \n",
        "\n",
        "zone_list = []  #A list that will contain the zonal statistics output \n",
        "n = 1           #This number will be used to geerate different names ot the ouput for every iteraation\n",
        "\n",
        "for raster in raster_list:\n",
        "    arcpy.AddMessage(raster)    #Printing the name of the raster \n",
        "    arcpy.sa.ZonalStatisticsAsTable(poly, stat_field, raster, 'r_' + str(n) + '.dbf' , 'DATA', str(stat_type))\n",
        "    zone_list.append('r_' + str(n)+ '.dbf')     #Appending the name of the output table into the zone_list\n",
        "    n+=1\n",
        " \n",
        "#Joining the zonal statistics table to the original polygon based on a common field\n",
        "intable=poly\n",
        "in_field = stat_field\n",
        "\n",
        "#In some case the the whole path of the input polygon is stored into the variable\n",
        "#Therefore we need to split it by the seperators to extract the name of the input polygon\n",
        "#The result of the first zonal statistics adds the name of the input polygon to the column names\n",
        "#This combination is needed to extract the join field when joing the tables together\n",
        "poly_list= poly.split(\"\\\\\")\n",
        "  \n",
        "if poly_list[-1][-3:] == 'shp' :\n",
        "    poly_field = str(poly_list[-1][:-3])  + str(stat_field)\n",
        "    \n",
        "else:\n",
        "    poly_field = str(poly_list[-1]) + '.' + str(stat_field)\n",
        "      \n",
        "#Iterating throught the output of the zonal statistics to join them into one table                        \n",
        "for i in range(len(zone_list)):\n",
        "    result_table = arcpy.management.AddJoin(intable , in_field, zone_list[i], stat_field, 'KEEP_COMMON')\n",
        "    #The next join will now use the results of the previous join\n",
        "    intable=result_table  \n",
        "    in_field = poly_field\n",
        "\n",
        "\n",
        "#Getting the output table location folder       \n",
        "outLocation = arcpy.GetParameterAsText(4)    \n",
        "\n",
        "#Gettiing the name of the final output table\n",
        "final_table = arcpy.GetParameterAsText(5)    \n",
        "\n",
        "#Saving the final table in the output folder location\n",
        "arcpy.conversion.TableToTable(result_table,outLocation, str(final_table) + '.dbf')\n",
        "\n",
        "arcpy.AddMessage('The final table table is stored in the output folder location selected')\n",
        "arcpy.AddMessage('The final table columns are in the order of the selected rasters') \n",
        "\n",
        "\n"
      ],
      "metadata": {
        "id": "eqxmcz9h31vZ"
      },
      "execution_count": null,
      "outputs": []
    }
  ]
}